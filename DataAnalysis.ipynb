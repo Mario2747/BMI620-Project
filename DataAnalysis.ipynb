{
 "cells": [
  {
   "cell_type": "code",
   "execution_count": 4,
   "metadata": {
    "vscode": {
     "languageId": "r"
    }
   },
   "outputs": [],
   "source": [
    "library(qqman)"
   ]
  },
  {
   "cell_type": "code",
   "execution_count": 5,
   "metadata": {
    "vscode": {
     "languageId": "r"
    }
   },
   "outputs": [],
   "source": [
    "rm(list=ls())\n",
    "setwd(\"D:\\\\lessons\\\\stat620\\\\Project\")"
   ]
  },
  {
   "cell_type": "markdown",
   "metadata": {
    "vscode": {
     "languageId": "r"
    }
   },
   "source": [
    "## Read data"
   ]
  },
  {
   "cell_type": "code",
   "execution_count": 6,
   "metadata": {
    "vscode": {
     "languageId": "r"
    }
   },
   "outputs": [],
   "source": [
    "file_path <- \"insomnia_female_ukb2b_EUR_sumstats_20190311_with_chrX_mac_100.txt\"\n",
    "gwas <- read.table(file_path, header = TRUE, sep = \"\\t\", stringsAsFactors = FALSE)"
   ]
  },
  {
   "cell_type": "code",
   "execution_count": 7,
   "metadata": {
    "vscode": {
     "languageId": "r"
    }
   },
   "outputs": [
    {
     "name": "stdout",
     "output_type": "stream",
     "text": [
      "'data.frame':\t11930195 obs. of  21 variables:\n",
      " $ SNP      : chr  \"1:715265:C_T\" \"1:715367:A_G\" \"1:717485:A_C\" \"1:720381:G_T\" ...\n",
      " $ CHR      : int  1 1 1 1 1 1 1 1 1 1 ...\n",
      " $ BP       : int  715265 715367 717485 720381 721290 723891 726794 729632 729679 751343 ...\n",
      " $ A1       : chr  \"T\" \"G\" \"A\" \"T\" ...\n",
      " $ TEST     : chr  \"ADD\" \"ADD\" \"ADD\" \"ADD\" ...\n",
      " $ NMISS    : int  206081 206283 206295 206696 206594 205839 206877 207043 201032 205310 ...\n",
      " $ OR       : num  0.977 0.974 0.971 0.97 0.971 ...\n",
      " $ SE       : num  0.0192 0.0192 0.0192 0.0188 0.0189 ...\n",
      " $ L95      : num  0.941 0.938 0.935 0.935 0.935 ...\n",
      " $ U95      : num  1.01 1.01 1.01 1.01 1.01 ...\n",
      " $ STAT     : num  -1.21 -1.38 -1.55 -1.62 -1.57 ...\n",
      " $ P        : num  0.226 0.168 0.12 0.106 0.116 ...\n",
      " $ A2       : chr  \"C\" \"A\" \"C\" \"G\" ...\n",
      " $ SNPID_UKB: chr  \"1:715265_C_T\" \"1:715367_A_G\" \"1:717485_C_A\" \"1:720381_G_T\" ...\n",
      " $ RSID_UKB : chr  \"rs12184267\" \"rs12184277\" \"rs12184279\" \"rs116801199\" ...\n",
      " $ A1_UKB   : chr  \"C\" \"A\" \"C\" \"G\" ...\n",
      " $ A2_UKB   : chr  \"T\" \"G\" \"A\" \"T\" ...\n",
      " $ INFO_UKB : num  0.927 0.931 0.925 0.932 0.936 ...\n",
      " $ MAF_UKB  : num  0.0366 0.0368 0.0365 0.0371 0.0372 ...\n",
      " $ MAF      : num  0.033 0.0331 0.0331 0.0344 0.0341 ...\n",
      " $ NCHROBS  : int  412162 412566 412590 413392 413188 411678 413754 414086 402064 410620 ...\n"
     ]
    }
   ],
   "source": [
    "str(gwas)"
   ]
  },
  {
   "cell_type": "code",
   "execution_count": 8,
   "metadata": {
    "vscode": {
     "languageId": "r"
    }
   },
   "outputs": [
    {
     "data": {
      "text/html": [
       "<table class=\"dataframe\">\n",
       "<caption>A data.frame: 6 × 21</caption>\n",
       "<thead>\n",
       "\t<tr><th></th><th scope=col>SNP</th><th scope=col>CHR</th><th scope=col>BP</th><th scope=col>A1</th><th scope=col>TEST</th><th scope=col>NMISS</th><th scope=col>OR</th><th scope=col>SE</th><th scope=col>L95</th><th scope=col>U95</th><th scope=col>⋯</th><th scope=col>P</th><th scope=col>A2</th><th scope=col>SNPID_UKB</th><th scope=col>RSID_UKB</th><th scope=col>A1_UKB</th><th scope=col>A2_UKB</th><th scope=col>INFO_UKB</th><th scope=col>MAF_UKB</th><th scope=col>MAF</th><th scope=col>NCHROBS</th></tr>\n",
       "\t<tr><th></th><th scope=col>&lt;chr&gt;</th><th scope=col>&lt;int&gt;</th><th scope=col>&lt;int&gt;</th><th scope=col>&lt;chr&gt;</th><th scope=col>&lt;chr&gt;</th><th scope=col>&lt;int&gt;</th><th scope=col>&lt;dbl&gt;</th><th scope=col>&lt;dbl&gt;</th><th scope=col>&lt;dbl&gt;</th><th scope=col>&lt;dbl&gt;</th><th scope=col>⋯</th><th scope=col>&lt;dbl&gt;</th><th scope=col>&lt;chr&gt;</th><th scope=col>&lt;chr&gt;</th><th scope=col>&lt;chr&gt;</th><th scope=col>&lt;chr&gt;</th><th scope=col>&lt;chr&gt;</th><th scope=col>&lt;dbl&gt;</th><th scope=col>&lt;dbl&gt;</th><th scope=col>&lt;dbl&gt;</th><th scope=col>&lt;int&gt;</th></tr>\n",
       "</thead>\n",
       "<tbody>\n",
       "\t<tr><th scope=row>1</th><td>1:715265:C_T</td><td>1</td><td>715265</td><td>T</td><td>ADD</td><td>206081</td><td>0.9771</td><td>0.01917</td><td>0.9410</td><td>1.014</td><td>⋯</td><td>0.22640</td><td>C</td><td>1:715265_C_T</td><td>rs12184267 </td><td>C</td><td>T</td><td>0.926915</td><td>0.0366377</td><td>0.03302</td><td>412162</td></tr>\n",
       "\t<tr><th scope=row>2</th><td>1:715367:A_G</td><td>1</td><td>715367</td><td>G</td><td>ADD</td><td>206283</td><td>0.9740</td><td>0.01915</td><td>0.9381</td><td>1.011</td><td>⋯</td><td>0.16830</td><td>A</td><td>1:715367_A_G</td><td>rs12184277 </td><td>A</td><td>G</td><td>0.931148</td><td>0.0367695</td><td>0.03313</td><td>412566</td></tr>\n",
       "\t<tr><th scope=row>3</th><td>1:717485:A_C</td><td>1</td><td>717485</td><td>A</td><td>ADD</td><td>206295</td><td>0.9707</td><td>0.01916</td><td>0.9349</td><td>1.008</td><td>⋯</td><td>0.12030</td><td>C</td><td>1:717485_C_A</td><td>rs12184279 </td><td>C</td><td>A</td><td>0.925230</td><td>0.0364631</td><td>0.03310</td><td>412590</td></tr>\n",
       "\t<tr><th scope=row>4</th><td>1:720381:G_T</td><td>1</td><td>720381</td><td>T</td><td>ADD</td><td>206696</td><td>0.9700</td><td>0.01882</td><td>0.9349</td><td>1.006</td><td>⋯</td><td>0.10600</td><td>G</td><td>1:720381_G_T</td><td>rs116801199</td><td>G</td><td>T</td><td>0.932145</td><td>0.0371104</td><td>0.03436</td><td>413392</td></tr>\n",
       "\t<tr><th scope=row>5</th><td>1:721290:C_G</td><td>1</td><td>721290</td><td>C</td><td>ADD</td><td>206594</td><td>0.9708</td><td>0.01889</td><td>0.9355</td><td>1.007</td><td>⋯</td><td>0.11610</td><td>G</td><td>1:721290_G_C</td><td>rs12565286 </td><td>G</td><td>C</td><td>0.936321</td><td>0.0372080</td><td>0.03410</td><td>413188</td></tr>\n",
       "\t<tr><th scope=row>6</th><td>1:723891:C_G</td><td>1</td><td>723891</td><td>G</td><td>ADD</td><td>205839</td><td>0.9655</td><td>0.01831</td><td>0.9314</td><td>1.001</td><td>⋯</td><td>0.05502</td><td>C</td><td>1:723891_G_C</td><td>rs2977670  </td><td>G</td><td>C</td><td>0.907101</td><td>0.0496481</td><td>0.03661</td><td>411678</td></tr>\n",
       "</tbody>\n",
       "</table>\n"
      ],
      "text/latex": [
       "A data.frame: 6 × 21\n",
       "\\begin{tabular}{r|lllllllllllllllllllll}\n",
       "  & SNP & CHR & BP & A1 & TEST & NMISS & OR & SE & L95 & U95 & ⋯ & P & A2 & SNPID\\_UKB & RSID\\_UKB & A1\\_UKB & A2\\_UKB & INFO\\_UKB & MAF\\_UKB & MAF & NCHROBS\\\\\n",
       "  & <chr> & <int> & <int> & <chr> & <chr> & <int> & <dbl> & <dbl> & <dbl> & <dbl> & ⋯ & <dbl> & <chr> & <chr> & <chr> & <chr> & <chr> & <dbl> & <dbl> & <dbl> & <int>\\\\\n",
       "\\hline\n",
       "\t1 & 1:715265:C\\_T & 1 & 715265 & T & ADD & 206081 & 0.9771 & 0.01917 & 0.9410 & 1.014 & ⋯ & 0.22640 & C & 1:715265\\_C\\_T & rs12184267  & C & T & 0.926915 & 0.0366377 & 0.03302 & 412162\\\\\n",
       "\t2 & 1:715367:A\\_G & 1 & 715367 & G & ADD & 206283 & 0.9740 & 0.01915 & 0.9381 & 1.011 & ⋯ & 0.16830 & A & 1:715367\\_A\\_G & rs12184277  & A & G & 0.931148 & 0.0367695 & 0.03313 & 412566\\\\\n",
       "\t3 & 1:717485:A\\_C & 1 & 717485 & A & ADD & 206295 & 0.9707 & 0.01916 & 0.9349 & 1.008 & ⋯ & 0.12030 & C & 1:717485\\_C\\_A & rs12184279  & C & A & 0.925230 & 0.0364631 & 0.03310 & 412590\\\\\n",
       "\t4 & 1:720381:G\\_T & 1 & 720381 & T & ADD & 206696 & 0.9700 & 0.01882 & 0.9349 & 1.006 & ⋯ & 0.10600 & G & 1:720381\\_G\\_T & rs116801199 & G & T & 0.932145 & 0.0371104 & 0.03436 & 413392\\\\\n",
       "\t5 & 1:721290:C\\_G & 1 & 721290 & C & ADD & 206594 & 0.9708 & 0.01889 & 0.9355 & 1.007 & ⋯ & 0.11610 & G & 1:721290\\_G\\_C & rs12565286  & G & C & 0.936321 & 0.0372080 & 0.03410 & 413188\\\\\n",
       "\t6 & 1:723891:C\\_G & 1 & 723891 & G & ADD & 205839 & 0.9655 & 0.01831 & 0.9314 & 1.001 & ⋯ & 0.05502 & C & 1:723891\\_G\\_C & rs2977670   & G & C & 0.907101 & 0.0496481 & 0.03661 & 411678\\\\\n",
       "\\end{tabular}\n"
      ],
      "text/markdown": [
       "\n",
       "A data.frame: 6 × 21\n",
       "\n",
       "| <!--/--> | SNP &lt;chr&gt; | CHR &lt;int&gt; | BP &lt;int&gt; | A1 &lt;chr&gt; | TEST &lt;chr&gt; | NMISS &lt;int&gt; | OR &lt;dbl&gt; | SE &lt;dbl&gt; | L95 &lt;dbl&gt; | U95 &lt;dbl&gt; | ⋯ ⋯ | P &lt;dbl&gt; | A2 &lt;chr&gt; | SNPID_UKB &lt;chr&gt; | RSID_UKB &lt;chr&gt; | A1_UKB &lt;chr&gt; | A2_UKB &lt;chr&gt; | INFO_UKB &lt;dbl&gt; | MAF_UKB &lt;dbl&gt; | MAF &lt;dbl&gt; | NCHROBS &lt;int&gt; |\n",
       "|---|---|---|---|---|---|---|---|---|---|---|---|---|---|---|---|---|---|---|---|---|---|\n",
       "| 1 | 1:715265:C_T | 1 | 715265 | T | ADD | 206081 | 0.9771 | 0.01917 | 0.9410 | 1.014 | ⋯ | 0.22640 | C | 1:715265_C_T | rs12184267  | C | T | 0.926915 | 0.0366377 | 0.03302 | 412162 |\n",
       "| 2 | 1:715367:A_G | 1 | 715367 | G | ADD | 206283 | 0.9740 | 0.01915 | 0.9381 | 1.011 | ⋯ | 0.16830 | A | 1:715367_A_G | rs12184277  | A | G | 0.931148 | 0.0367695 | 0.03313 | 412566 |\n",
       "| 3 | 1:717485:A_C | 1 | 717485 | A | ADD | 206295 | 0.9707 | 0.01916 | 0.9349 | 1.008 | ⋯ | 0.12030 | C | 1:717485_C_A | rs12184279  | C | A | 0.925230 | 0.0364631 | 0.03310 | 412590 |\n",
       "| 4 | 1:720381:G_T | 1 | 720381 | T | ADD | 206696 | 0.9700 | 0.01882 | 0.9349 | 1.006 | ⋯ | 0.10600 | G | 1:720381_G_T | rs116801199 | G | T | 0.932145 | 0.0371104 | 0.03436 | 413392 |\n",
       "| 5 | 1:721290:C_G | 1 | 721290 | C | ADD | 206594 | 0.9708 | 0.01889 | 0.9355 | 1.007 | ⋯ | 0.11610 | G | 1:721290_G_C | rs12565286  | G | C | 0.936321 | 0.0372080 | 0.03410 | 413188 |\n",
       "| 6 | 1:723891:C_G | 1 | 723891 | G | ADD | 205839 | 0.9655 | 0.01831 | 0.9314 | 1.001 | ⋯ | 0.05502 | C | 1:723891_G_C | rs2977670   | G | C | 0.907101 | 0.0496481 | 0.03661 | 411678 |\n",
       "\n"
      ],
      "text/plain": [
       "  SNP          CHR BP     A1 TEST NMISS  OR     SE      L95    U95   ⋯ P      \n",
       "1 1:715265:C_T 1   715265 T  ADD  206081 0.9771 0.01917 0.9410 1.014 ⋯ 0.22640\n",
       "2 1:715367:A_G 1   715367 G  ADD  206283 0.9740 0.01915 0.9381 1.011 ⋯ 0.16830\n",
       "3 1:717485:A_C 1   717485 A  ADD  206295 0.9707 0.01916 0.9349 1.008 ⋯ 0.12030\n",
       "4 1:720381:G_T 1   720381 T  ADD  206696 0.9700 0.01882 0.9349 1.006 ⋯ 0.10600\n",
       "5 1:721290:C_G 1   721290 C  ADD  206594 0.9708 0.01889 0.9355 1.007 ⋯ 0.11610\n",
       "6 1:723891:C_G 1   723891 G  ADD  205839 0.9655 0.01831 0.9314 1.001 ⋯ 0.05502\n",
       "  A2 SNPID_UKB    RSID_UKB    A1_UKB A2_UKB INFO_UKB MAF_UKB   MAF     NCHROBS\n",
       "1 C  1:715265_C_T rs12184267  C      T      0.926915 0.0366377 0.03302 412162 \n",
       "2 A  1:715367_A_G rs12184277  A      G      0.931148 0.0367695 0.03313 412566 \n",
       "3 C  1:717485_C_A rs12184279  C      A      0.925230 0.0364631 0.03310 412590 \n",
       "4 G  1:720381_G_T rs116801199 G      T      0.932145 0.0371104 0.03436 413392 \n",
       "5 G  1:721290_G_C rs12565286  G      C      0.936321 0.0372080 0.03410 413188 \n",
       "6 C  1:723891_G_C rs2977670   G      C      0.907101 0.0496481 0.03661 411678 "
      ]
     },
     "metadata": {},
     "output_type": "display_data"
    }
   ],
   "source": [
    "head(gwas)"
   ]
  },
  {
   "cell_type": "markdown",
   "metadata": {},
   "source": [
    "## Draw Manhattan and QQ plots"
   ]
  },
  {
   "cell_type": "code",
   "execution_count": 9,
   "metadata": {
    "vscode": {
     "languageId": "r"
    }
   },
   "outputs": [],
   "source": [
    "# make manhattan plot\n",
    "gwas_qqman <- gwas[, c(\"SNP\", \"CHR\", \"BP\", \"P\")]\n",
    "colnames(gwas_qqman) <- c(\"SNP\", \"CHR\", \"BP\", \"P\")"
   ]
  },
  {
   "cell_type": "code",
   "execution_count": 10,
   "metadata": {
    "vscode": {
     "languageId": "r"
    }
   },
   "outputs": [
    {
     "data": {
      "text/html": [
       "<strong>pdf:</strong> 2"
      ],
      "text/latex": [
       "\\textbf{pdf:} 2"
      ],
      "text/markdown": [
       "**pdf:** 2"
      ],
      "text/plain": [
       "pdf \n",
       "  2 "
      ]
     },
     "metadata": {},
     "output_type": "display_data"
    }
   ],
   "source": [
    "png(\"manhattan.png\",units=\"in\",width = 15,height = 8,res=300)\n",
    "manhattan(gwas_qqman,chr=\"CHR\",bp=\"BP\",p=\"P\",snp=\"SNP\",suggestiveline=F,genomewideline=-log10(5e-08))\n",
    "dev.off()"
   ]
  },
  {
   "cell_type": "code",
   "execution_count": 11,
   "metadata": {
    "vscode": {
     "languageId": "r"
    }
   },
   "outputs": [
    {
     "data": {
      "text/html": [
       "<strong>pdf:</strong> 2"
      ],
      "text/latex": [
       "\\textbf{pdf:} 2"
      ],
      "text/markdown": [
       "**pdf:** 2"
      ],
      "text/plain": [
       "pdf \n",
       "  2 "
      ]
     },
     "metadata": {},
     "output_type": "display_data"
    }
   ],
   "source": [
    "# make QQ plot\n",
    "png(\"qqplot.png\",units=\"in\",width=8,height=8,res=300)\n",
    "qq(gwas$P)\n",
    "dev.off()"
   ]
  }
 ],
 "metadata": {
  "kernelspec": {
   "display_name": "R",
   "language": "R",
   "name": "ir"
  },
  "language_info": {
   "codemirror_mode": "r",
   "file_extension": ".r",
   "mimetype": "text/x-r-source",
   "name": "R",
   "pygments_lexer": "r",
   "version": "4.4.1"
  }
 },
 "nbformat": 4,
 "nbformat_minor": 2
}
